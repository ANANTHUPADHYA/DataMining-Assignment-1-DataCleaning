{
  "nbformat": 4,
  "nbformat_minor": 0,
  "metadata": {
    "colab": {
      "name": "DataMiningAssignment1-DataCleaning.ipynb",
      "provenance": []
    },
    "kernelspec": {
      "name": "python3",
      "display_name": "Python 3"
    },
    "language_info": {
      "name": "python"
    }
  },
  "cells": [
    {
      "cell_type": "code",
      "metadata": {
        "id": "b_-L529-7zSQ"
      },
      "source": [
        "import numpy as np\n",
        "import matplotlib.pyplot as plt\n",
        "import pandas as pd\n",
        "import seaborn as sns\n",
        "from mlxtend.preprocessing import minmax_scaling\n",
        "%matplotlib inline"
      ],
      "execution_count": 1,
      "outputs": []
    },
    {
      "cell_type": "markdown",
      "metadata": {
        "id": "LkZ55pFr8Ds8"
      },
      "source": [
        "# Initial look at the data"
      ]
    },
    {
      "cell_type": "code",
      "metadata": {
        "colab": {
          "base_uri": "https://localhost:8080/",
          "height": 232
        },
        "id": "bvakhkI18Eub",
        "outputId": "76381525-d702-466a-b89c-73cd54a0f344"
      },
      "source": [
        "df = pd.read_json(\"sample_data/dataset_en_train.json\",lines=True)\n",
        "df.head()"
      ],
      "execution_count": 4,
      "outputs": [
        {
          "output_type": "execute_result",
          "data": {
            "text/html": [
              "<div>\n",
              "<style scoped>\n",
              "    .dataframe tbody tr th:only-of-type {\n",
              "        vertical-align: middle;\n",
              "    }\n",
              "\n",
              "    .dataframe tbody tr th {\n",
              "        vertical-align: top;\n",
              "    }\n",
              "\n",
              "    .dataframe thead th {\n",
              "        text-align: right;\n",
              "    }\n",
              "</style>\n",
              "<table border=\"1\" class=\"dataframe\">\n",
              "  <thead>\n",
              "    <tr style=\"text-align: right;\">\n",
              "      <th></th>\n",
              "      <th>review_id</th>\n",
              "      <th>product_id</th>\n",
              "      <th>reviewer_id</th>\n",
              "      <th>stars</th>\n",
              "      <th>review_body</th>\n",
              "      <th>review_title</th>\n",
              "      <th>language</th>\n",
              "      <th>product_category</th>\n",
              "    </tr>\n",
              "  </thead>\n",
              "  <tbody>\n",
              "    <tr>\n",
              "      <th>0</th>\n",
              "      <td>en_0964290</td>\n",
              "      <td>product_en_0740675</td>\n",
              "      <td>reviewer_en_0342986</td>\n",
              "      <td>1</td>\n",
              "      <td>Arrived broken. Manufacturer defect. Two of th...</td>\n",
              "      <td>I'll spend twice the amount of time boxing up ...</td>\n",
              "      <td>en</td>\n",
              "      <td>furniture</td>\n",
              "    </tr>\n",
              "    <tr>\n",
              "      <th>1</th>\n",
              "      <td>en_0690095</td>\n",
              "      <td>product_en_0440378</td>\n",
              "      <td>reviewer_en_0133349</td>\n",
              "      <td>1</td>\n",
              "      <td>the cabinet dot were all detached from backing...</td>\n",
              "      <td>Not use able</td>\n",
              "      <td>en</td>\n",
              "      <td>home_improvement</td>\n",
              "    </tr>\n",
              "    <tr>\n",
              "      <th>2</th>\n",
              "      <td>en_0311558</td>\n",
              "      <td>product_en_0399702</td>\n",
              "      <td>reviewer_en_0152034</td>\n",
              "      <td>1</td>\n",
              "      <td>I received my first order of this product and ...</td>\n",
              "      <td>The product is junk.</td>\n",
              "      <td>en</td>\n",
              "      <td>home</td>\n",
              "    </tr>\n",
              "    <tr>\n",
              "      <th>3</th>\n",
              "      <td>en_0044972</td>\n",
              "      <td>product_en_0444063</td>\n",
              "      <td>reviewer_en_0656967</td>\n",
              "      <td>1</td>\n",
              "      <td>This product is a piece of shit. Do not buy. D...</td>\n",
              "      <td>Fucking waste of money</td>\n",
              "      <td>en</td>\n",
              "      <td>wireless</td>\n",
              "    </tr>\n",
              "    <tr>\n",
              "      <th>4</th>\n",
              "      <td>en_0784379</td>\n",
              "      <td>product_en_0139353</td>\n",
              "      <td>reviewer_en_0757638</td>\n",
              "      <td>1</td>\n",
              "      <td>went through 3 in one day doesn't fit correct ...</td>\n",
              "      <td>bubble</td>\n",
              "      <td>en</td>\n",
              "      <td>pc</td>\n",
              "    </tr>\n",
              "  </tbody>\n",
              "</table>\n",
              "</div>"
            ],
            "text/plain": [
              "    review_id          product_id  ... language  product_category\n",
              "0  en_0964290  product_en_0740675  ...       en         furniture\n",
              "1  en_0690095  product_en_0440378  ...       en  home_improvement\n",
              "2  en_0311558  product_en_0399702  ...       en              home\n",
              "3  en_0044972  product_en_0444063  ...       en          wireless\n",
              "4  en_0784379  product_en_0139353  ...       en                pc\n",
              "\n",
              "[5 rows x 8 columns]"
            ]
          },
          "metadata": {},
          "execution_count": 4
        }
      ]
    },
    {
      "cell_type": "code",
      "metadata": {
        "colab": {
          "base_uri": "https://localhost:8080/"
        },
        "id": "9FgEyzAf8Y9s",
        "outputId": "1ba13c3d-503e-4d08-c09a-3144c5b155dc"
      },
      "source": [
        "df.shape"
      ],
      "execution_count": 5,
      "outputs": [
        {
          "output_type": "execute_result",
          "data": {
            "text/plain": [
              "(200000, 8)"
            ]
          },
          "metadata": {},
          "execution_count": 5
        }
      ]
    },
    {
      "cell_type": "code",
      "metadata": {
        "colab": {
          "base_uri": "https://localhost:8080/"
        },
        "id": "7OzgwaxN8bUJ",
        "outputId": "76c1fc84-ba08-482e-97bc-99d94a35594c"
      },
      "source": [
        "df.count()"
      ],
      "execution_count": 6,
      "outputs": [
        {
          "output_type": "execute_result",
          "data": {
            "text/plain": [
              "review_id           200000\n",
              "product_id          200000\n",
              "reviewer_id         200000\n",
              "stars               200000\n",
              "review_body         200000\n",
              "review_title        200000\n",
              "language            200000\n",
              "product_category    200000\n",
              "dtype: int64"
            ]
          },
          "metadata": {},
          "execution_count": 6
        }
      ]
    },
    {
      "cell_type": "markdown",
      "metadata": {
        "id": "QWdtCXbQ8qEe"
      },
      "source": [
        "# Count how many missing data points"
      ]
    },
    {
      "cell_type": "code",
      "metadata": {
        "colab": {
          "base_uri": "https://localhost:8080/"
        },
        "id": "1hhJewKu8md_",
        "outputId": "30c775ae-2c29-4d26-c3d0-c1235b0b4def"
      },
      "source": [
        "missing_values = df.isnull().sum()\n",
        "missing_values"
      ],
      "execution_count": 7,
      "outputs": [
        {
          "output_type": "execute_result",
          "data": {
            "text/plain": [
              "review_id           0\n",
              "product_id          0\n",
              "reviewer_id         0\n",
              "stars               0\n",
              "review_body         0\n",
              "review_title        0\n",
              "language            0\n",
              "product_category    0\n",
              "dtype: int64"
            ]
          },
          "metadata": {},
          "execution_count": 7
        }
      ]
    },
    {
      "cell_type": "markdown",
      "metadata": {
        "id": "D_Nz4ouV8zKk"
      },
      "source": [
        "# See what percentage of the values in our dataset are missing to give us a better sense of the scale of this problem"
      ]
    },
    {
      "cell_type": "code",
      "metadata": {
        "colab": {
          "base_uri": "https://localhost:8080/"
        },
        "id": "wYkK-qa69RRu",
        "outputId": "e924dbde-c18a-42b5-eb6a-a7839923a082"
      },
      "source": [
        "# how many total missing values do we have?\n",
        "total_cells = np.product(df.shape)\n",
        "total_missing = missing_values.sum()\n",
        "print(\"total cells = {}\\ntotal missing = {}\".format(total_cells, total_missing))\n",
        "\n",
        "# percent of data that is missing\n",
        "print(\"% missing = {}%\".format(round((total_missing / total_cells) * 100, 2)))"
      ],
      "execution_count": 8,
      "outputs": [
        {
          "output_type": "stream",
          "name": "stdout",
          "text": [
            "total cells = 1600000\n",
            "total missing = 0\n",
            "% missing = 0.0%\n"
          ]
        }
      ]
    },
    {
      "cell_type": "markdown",
      "metadata": {
        "id": "mK8BpDX59LQ6"
      },
      "source": [
        "#Scaling and Normalisation\n",
        "scaling = changing the range of your data\n",
        "\n",
        "normalisation = changing the shape of the distribution of your data.\n",
        "\n",
        "#Scaling\n",
        "==> transforming your data so that it fits within a specific scale\n",
        "\n",
        "\n",
        "Useful when using methods based on measures of how far apart data points are, like SVM or kNN --> can help compare different variables on equal footing."
      ]
    },
    {
      "cell_type": "code",
      "metadata": {
        "id": "PhEUKRWI9mB6"
      },
      "source": [
        "# generate 1000 data points randomly drawn from an exponential distribution\n",
        "data = np.random.exponential(size=1000)"
      ],
      "execution_count": 9,
      "outputs": []
    },
    {
      "cell_type": "code",
      "metadata": {
        "id": "pzC3u7uQ9pbE"
      },
      "source": [
        "# mix-max scale the data between 0 and 1\n",
        "scaled_data = minmax_scaling(data, columns=[0])"
      ],
      "execution_count": 10,
      "outputs": []
    },
    {
      "cell_type": "code",
      "metadata": {
        "colab": {
          "base_uri": "https://localhost:8080/",
          "height": 297
        },
        "id": "cIGiFaRt9s6a",
        "outputId": "acadb473-46a7-4fd7-fe3e-5cd8e095b7a6"
      },
      "source": [
        "# plot both together to compare\n",
        "fig, ax = plt.subplots(1,2)\n",
        "sns.histplot(data, ax=ax[0])\n",
        "ax[0].set_title(\"Original Data\")\n",
        "sns.histplot(scaled_data, ax=ax[1])\n",
        "ax[1].set_title(\"Scaled data\")"
      ],
      "execution_count": 11,
      "outputs": [
        {
          "output_type": "execute_result",
          "data": {
            "text/plain": [
              "Text(0.5, 1.0, 'Scaled data')"
            ]
          },
          "metadata": {},
          "execution_count": 11
        },
        {
          "output_type": "display_data",
          "data": {
            "image/png": "[encoded data removed]",
            "text/plain": [
              "<Figure size 432x288 with 2 Axes>"
            ]
          },
          "metadata": {
            "needs_background": "light"
          }
        }
      ]
    },
    {
      "cell_type": "code",
      "metadata": {
        "colab": {
          "base_uri": "https://localhost:8080/",
          "height": 336
        },
        "id": "XYLBm8FX9yUi",
        "outputId": "af3a4dd0-a224-422d-de1c-cbc19b3ac498"
      },
      "source": [
        "plt.figure(figsize=(15,5))\n",
        "sns.lineplot(data=df, dashes=False) # the standard style only supports dashes for the first 6 colours."
      ],
      "execution_count": 12,
      "outputs": [
        {
          "output_type": "execute_result",
          "data": {
            "text/plain": [
              "<matplotlib.axes._subplots.AxesSubplot at 0x7f5c477dec10>"
            ]
          },
          "metadata": {},
          "execution_count": 12
        },
        {
          "output_type": "display_data",
          "data": {
            "image/png": "[encoded data removed]",
            "text/plain": [
              "<Figure size 1080x360 with 1 Axes>"
            ]
          },
          "metadata": {
            "needs_background": "light"
          }
        }
      ]
    }
  ]
}